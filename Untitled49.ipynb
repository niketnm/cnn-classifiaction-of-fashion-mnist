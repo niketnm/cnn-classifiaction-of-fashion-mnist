{
  "nbformat": 4,
  "nbformat_minor": 0,
  "metadata": {
    "colab": {
      "name": "Untitled49.ipynb",
      "provenance": []
    },
    "kernelspec": {
      "name": "python3",
      "display_name": "Python 3"
    },
    "language_info": {
      "name": "python"
    }
  },
  "cells": [
    {
      "cell_type": "code",
      "execution_count": 3,
      "metadata": {
        "id": "pGoBrcFycNBX"
      },
      "outputs": [],
      "source": [
        "#Import Packages\n",
        "import numpy as np\n",
        "import keras\n",
        "from keras.models import Sequential\n",
        "from keras.layers import Flatten, Dense\n",
        "import tensorflow as tf\n",
        "import matplotlib.pyplot as plt\n",
        "%matplotlib inline"
      ]
    },
    {
      "cell_type": "markdown",
      "source": [
        "###Import Fashion dataset"
      ],
      "metadata": {
        "id": "epsb_L_EhL9p"
      }
    },
    {
      "cell_type": "code",
      "source": [
        "#Import Fashion dataset\n",
        "fashion_mnist = tf.keras.datasets.fashion_mnist\n",
        "#Here, 60,000 images are used to train the network and 10,000 images to evaluate how accurately the network learned to classify images\n",
        "(x_train, x_labels), (y_test, y_labels) = fashion_mnist.load_data()"
      ],
      "metadata": {
        "id": "TeSUjfQicuQg"
      },
      "execution_count": 35,
      "outputs": []
    },
    {
      "cell_type": "markdown",
      "source": [
        "###Explore Data"
      ],
      "metadata": {
        "id": "zZO5yjZnhdlI"
      }
    },
    {
      "cell_type": "code",
      "source": [
        "#See sample train and label data\n",
        "plt.imshow(x_train[1])\n",
        "plt.title('Class : {}'.format(x_labels[1]))\n",
        "plt.figure()"
      ],
      "metadata": {
        "colab": {
          "base_uri": "https://localhost:8080/",
          "height": 316
        },
        "id": "xmZ5lofqdM7n",
        "outputId": "b6da99f1-73e3-4356-fa58-465761aa7e9f"
      },
      "execution_count": 36,
      "outputs": [
        {
          "output_type": "execute_result",
          "data": {
            "text/plain": [
              "<Figure size 432x288 with 0 Axes>"
            ]
          },
          "metadata": {},
          "execution_count": 36
        },
        {
          "output_type": "display_data",
          "data": {
            "text/plain": [
              "<Figure size 432x288 with 1 Axes>"
            ],
            "image/png": "[encoded data removed]"
          },
          "metadata": {
            "needs_background": "light"
          }
        },
        {
          "output_type": "display_data",
          "data": {
            "text/plain": [
              "<Figure size 432x288 with 0 Axes>"
            ]
          },
          "metadata": {}
        }
      ]
    },
    {
      "cell_type": "code",
      "source": [
        "class_names = ['T-shirt/top', 'Trouser', 'Pullover', 'Dress', 'Coat',\n",
        "               'Sandal', 'Shirt', 'Sneaker', 'Bag', 'Ankle boot']"
      ],
      "metadata": {
        "id": "jvzGKbdgeVUE"
      },
      "execution_count": 37,
      "outputs": []
    },
    {
      "cell_type": "code",
      "source": [
        "#Exploring more data\n",
        "x_train.shape\n"
      ],
      "metadata": {
        "colab": {
          "base_uri": "https://localhost:8080/"
        },
        "id": "M4dYwLbVeaMC",
        "outputId": "45433270-8e96-4424-f999-49ca1417259f"
      },
      "execution_count": 38,
      "outputs": [
        {
          "output_type": "execute_result",
          "data": {
            "text/plain": [
              "(60000, 28, 28)"
            ]
          },
          "metadata": {},
          "execution_count": 38
        }
      ]
    },
    {
      "cell_type": "code",
      "source": [
        "#Training Data has 60000 images each of resolution 28 x 28 pixels"
      ],
      "metadata": {
        "id": "OkiDpNileiYP"
      },
      "execution_count": 16,
      "outputs": []
    },
    {
      "cell_type": "code",
      "source": [
        "#See the number of labels\n",
        "x_labels"
      ],
      "metadata": {
        "colab": {
          "base_uri": "https://localhost:8080/"
        },
        "id": "2ck2aZisephu",
        "outputId": "12488e53-677a-45df-af34-09decf51432b"
      },
      "execution_count": 39,
      "outputs": [
        {
          "output_type": "execute_result",
          "data": {
            "text/plain": [
              "array([9, 0, 0, ..., 3, 0, 5], dtype=uint8)"
            ]
          },
          "metadata": {},
          "execution_count": 39
        }
      ]
    },
    {
      "cell_type": "code",
      "source": [
        "#unique labels\n",
        "np.unique(x_labels)"
      ],
      "metadata": {
        "colab": {
          "base_uri": "https://localhost:8080/"
        },
        "id": "OqF-_CTpfQSf",
        "outputId": "dd5b585c-2212-4f93-8fd2-8f671c82f0d5"
      },
      "execution_count": 40,
      "outputs": [
        {
          "output_type": "execute_result",
          "data": {
            "text/plain": [
              "array([0, 1, 2, 3, 4, 5, 6, 7, 8, 9], dtype=uint8)"
            ]
          },
          "metadata": {},
          "execution_count": 40
        }
      ]
    },
    {
      "cell_type": "code",
      "source": [
        "#We have labels numbered 0 to 9"
      ],
      "metadata": {
        "id": "61g-4JG4fUSp"
      },
      "execution_count": 41,
      "outputs": []
    },
    {
      "cell_type": "code",
      "source": [
        "#Checking the test data\n",
        "print(\"Shape of training data is: \", y_test.shape)\n",
        "print(\"Labels in training data are: \", np.unique(y_labels))"
      ],
      "metadata": {
        "colab": {
          "base_uri": "https://localhost:8080/"
        },
        "id": "3ArLmmqvfY6Z",
        "outputId": "99c7e325-80dd-4710-ba88-bd9d403c46b6"
      },
      "execution_count": 42,
      "outputs": [
        {
          "output_type": "stream",
          "name": "stdout",
          "text": [
            "Shape of training data is:  (10000, 28, 28)\n",
            "Labels in training data are:  [0 1 2 3 4 5 6 7 8 9]\n"
          ]
        }
      ]
    },
    {
      "cell_type": "markdown",
      "source": [
        "###Normalize the data"
      ],
      "metadata": {
        "id": "8r-IY-MXhhu4"
      }
    },
    {
      "cell_type": "code",
      "source": [
        "#Normalizing the data since values are between 0 to 255 which is a huge number\n",
        "x_train = tf.keras.utils.normalize(x_train, axis=1)\n",
        "y_test = tf.keras.utils.normalize(y_test, axis=1)"
      ],
      "metadata": {
        "id": "61KsdKPTf1JY"
      },
      "execution_count": 43,
      "outputs": []
    },
    {
      "cell_type": "code",
      "source": [
        "#Visualize normalized data\n",
        "plt.figure(figsize=(10,10))\n",
        "for i in range(25):\n",
        "    plt.subplot(5,5,i+1)\n",
        "    plt.xticks([])\n",
        "    plt.yticks([])\n",
        "    plt.grid(False)\n",
        "    plt.imshow(x_train[i], cmap=plt.cm.binary)\n",
        "    plt.xlabel(class_names[x_labels[i]])\n",
        "plt.show()"
      ],
      "metadata": {
        "colab": {
          "base_uri": "https://localhost:8080/",
          "height": 589
        },
        "id": "GCGuKuhJgxT3",
        "outputId": "fb8992be-5ace-4fe1-99af-19f63ef26fba"
      },
      "execution_count": 44,
      "outputs": [
        {
          "output_type": "display_data",
          "data": {
            "text/plain": [
              "<Figure size 720x720 with 25 Axes>"
            ],
            "image/png": "[encoded data removed]"
          },
          "metadata": {}
        }
      ]
    },
    {
      "cell_type": "markdown",
      "source": [
        "###Building the model"
      ],
      "metadata": {
        "id": "6SCLyD4Bhovq"
      }
    },
    {
      "cell_type": "code",
      "source": [
        "#Flatten coverts a numpy array into a 1d array\n",
        "#There are two layers. The first layer has 128 neurons\n",
        "#The second layer is the labeling layer which has 10 nodes and is outputted by the activation function from the previous layer\n",
        "model = tf.keras.Sequential([\n",
        "    tf.keras.layers.Flatten(input_shape=(28, 28)),\n",
        "    tf.keras.layers.Dense(128, activation='relu'),\n",
        "    tf.keras.layers.Dense(10)\n",
        "])"
      ],
      "metadata": {
        "id": "ZpAP_BL4hmIv"
      },
      "execution_count": 45,
      "outputs": []
    },
    {
      "cell_type": "markdown",
      "source": [
        "###Compiling the model"
      ],
      "metadata": {
        "id": "Br8tVAiQikwv"
      }
    },
    {
      "cell_type": "code",
      "source": [
        "model.compile(optimizer='adam',\n",
        "              loss=tf.keras.losses.SparseCategoricalCrossentropy(from_logits=True),\n",
        "              metrics=['accuracy'])"
      ],
      "metadata": {
        "id": "ixfmH8maidp2"
      },
      "execution_count": 46,
      "outputs": []
    },
    {
      "cell_type": "markdown",
      "source": [
        "###Fitting the model"
      ],
      "metadata": {
        "id": "lNRmXeG3i5ia"
      }
    },
    {
      "cell_type": "code",
      "source": [
        "model.fit(x_train, x_labels, epochs=10, verbose = 2)"
      ],
      "metadata": {
        "colab": {
          "base_uri": "https://localhost:8080/"
        },
        "id": "CKMZ-BlHjAWI",
        "outputId": "ae138d52-4aa3-48ed-86c6-7dcc7e9872d3"
      },
      "execution_count": 49,
      "outputs": [
        {
          "output_type": "stream",
          "name": "stdout",
          "text": [
            "Epoch 1/10\n",
            "1875/1875 - 4s - loss: 0.2205 - accuracy: 0.9179 - 4s/epoch - 2ms/step\n",
            "Epoch 2/10\n",
            "1875/1875 - 4s - loss: 0.2137 - accuracy: 0.9202 - 4s/epoch - 2ms/step\n",
            "Epoch 3/10\n",
            "1875/1875 - 4s - loss: 0.2042 - accuracy: 0.9232 - 4s/epoch - 2ms/step\n",
            "Epoch 4/10\n",
            "1875/1875 - 3s - loss: 0.1978 - accuracy: 0.9266 - 3s/epoch - 2ms/step\n",
            "Epoch 5/10\n",
            "1875/1875 - 3s - loss: 0.1926 - accuracy: 0.9271 - 3s/epoch - 2ms/step\n",
            "Epoch 6/10\n",
            "1875/1875 - 4s - loss: 0.1857 - accuracy: 0.9306 - 4s/epoch - 2ms/step\n",
            "Epoch 7/10\n",
            "1875/1875 - 4s - loss: 0.1770 - accuracy: 0.9338 - 4s/epoch - 2ms/step\n",
            "Epoch 8/10\n",
            "1875/1875 - 3s - loss: 0.1755 - accuracy: 0.9339 - 3s/epoch - 2ms/step\n",
            "Epoch 9/10\n",
            "1875/1875 - 4s - loss: 0.1669 - accuracy: 0.9376 - 4s/epoch - 2ms/step\n",
            "Epoch 10/10\n",
            "1875/1875 - 4s - loss: 0.1635 - accuracy: 0.9394 - 4s/epoch - 2ms/step\n"
          ]
        },
        {
          "output_type": "execute_result",
          "data": {
            "text/plain": [
              "<keras.callbacks.History at 0x7fcda04cdc90>"
            ]
          },
          "metadata": {},
          "execution_count": 49
        }
      ]
    },
    {
      "cell_type": "markdown",
      "source": [
        "###Evaluating the model"
      ],
      "metadata": {
        "id": "AO9CD1X5jQtM"
      }
    },
    {
      "cell_type": "code",
      "source": [
        "test_loss, test_acc = model.evaluate(y_test,  y_labels, verbose=2)\n",
        "print('\\nTest accuracy:', test_acc)"
      ],
      "metadata": {
        "colab": {
          "base_uri": "https://localhost:8080/"
        },
        "id": "EbXdbHNqjOQW",
        "outputId": "2d53173b-f390-4c86-a8a0-2ffbafb2991b"
      },
      "execution_count": 50,
      "outputs": [
        {
          "output_type": "stream",
          "name": "stdout",
          "text": [
            "313/313 - 0s - loss: 0.3579 - accuracy: 0.8829 - 446ms/epoch - 1ms/step\n",
            "\n",
            "Test accuracy: 0.8828999996185303\n"
          ]
        }
      ]
    },
    {
      "cell_type": "markdown",
      "source": [
        "Test accuracy is less than train accuracy. This may be due to overfitting. "
      ],
      "metadata": {
        "id": "bDPYyLXMkPgM"
      }
    },
    {
      "cell_type": "markdown",
      "source": [
        "##Trying different setting for the model to improve accuracy and evaluate the results\n"
      ],
      "metadata": {
        "id": "U9xt91qskXjQ"
      }
    },
    {
      "cell_type": "markdown",
      "source": [
        "###Trying with different number of neurons and evaluating result\n",
        "Incrementing the number of neurons by 20 within the range 100 to 260"
      ],
      "metadata": {
        "id": "dS_ysx4GkjA4"
      }
    },
    {
      "cell_type": "code",
      "source": [
        "layers = []\n",
        "accuracy = []"
      ],
      "metadata": {
        "id": "Uz66rwFonfOK"
      },
      "execution_count": 53,
      "outputs": []
    },
    {
      "cell_type": "code",
      "source": [
        "for i in range(100, 261, 20):\n",
        "  print(\"Building the model......\\n\")\n",
        "  model = tf.keras.Sequential([\n",
        "    tf.keras.layers.Flatten(input_shape=(28, 28)),\n",
        "    tf.keras.layers.Dense(i, activation='relu'),\n",
        "    tf.keras.layers.Dense(10)\n",
        "  ])\n",
        "  print(\"Compiling the model.......\\n\")\n",
        "  model.compile(optimizer='adam',\n",
        "              loss=tf.keras.losses.SparseCategoricalCrossentropy(from_logits=True),\n",
        "              metrics=['accuracy'])\n",
        "  print(\"Fitting the model for layers = {}\\n\".format(i))\n",
        "  model.fit(x_train, x_labels, epochs=10, verbose = 2)\n",
        "  print(\"Evaluating the model for layers = {}\\n\".format(i))\n",
        "  test_loss, test_acc = model.evaluate(y_test,  y_labels, verbose=2)\n",
        "  print('\\nTest accuracy:', test_acc)\n",
        "  layers.append(i)\n",
        "  accuracy.append(test_acc)"
      ],
      "metadata": {
        "colab": {
          "base_uri": "https://localhost:8080/"
        },
        "id": "RRjvlwL2kVly",
        "outputId": "e40f7757-4aa5-45a1-8357-391b7c200100"
      },
      "execution_count": 54,
      "outputs": [
        {
          "output_type": "stream",
          "name": "stdout",
          "text": [
            "Building the model......\n",
            "\n",
            "Compiling the model.......\n",
            "\n",
            "Fitting the model for layers = 100\n",
            "\n",
            "Epoch 1/10\n",
            "1875/1875 - 4s - loss: 0.5181 - accuracy: 0.8151 - 4s/epoch - 2ms/step\n",
            "Epoch 2/10\n",
            "1875/1875 - 3s - loss: 0.3811 - accuracy: 0.8614 - 3s/epoch - 2ms/step\n",
            "Epoch 3/10\n",
            "1875/1875 - 4s - loss: 0.3411 - accuracy: 0.8753 - 4s/epoch - 2ms/step\n",
            "Epoch 4/10\n",
            "1875/1875 - 4s - loss: 0.3159 - accuracy: 0.8839 - 4s/epoch - 2ms/step\n",
            "Epoch 5/10\n",
            "1875/1875 - 3s - loss: 0.2983 - accuracy: 0.8902 - 3s/epoch - 2ms/step\n",
            "Epoch 6/10\n",
            "1875/1875 - 3s - loss: 0.2834 - accuracy: 0.8952 - 3s/epoch - 2ms/step\n",
            "Epoch 7/10\n",
            "1875/1875 - 4s - loss: 0.2718 - accuracy: 0.8985 - 4s/epoch - 2ms/step\n",
            "Epoch 8/10\n",
            "1875/1875 - 4s - loss: 0.2600 - accuracy: 0.9032 - 4s/epoch - 2ms/step\n",
            "Epoch 9/10\n",
            "1875/1875 - 3s - loss: 0.2494 - accuracy: 0.9069 - 3s/epoch - 2ms/step\n",
            "Epoch 10/10\n",
            "1875/1875 - 3s - loss: 0.2408 - accuracy: 0.9097 - 3s/epoch - 2ms/step\n",
            "Evaluating the model for layers = 100\n",
            "\n",
            "313/313 - 1s - loss: 0.3422 - accuracy: 0.8760 - 516ms/epoch - 2ms/step\n",
            "\n",
            "Test accuracy: 0.8759999871253967\n",
            "Building the model......\n",
            "\n",
            "Compiling the model.......\n",
            "\n",
            "Fitting the model for layers = 120\n",
            "\n",
            "Epoch 1/10\n",
            "1875/1875 - 4s - loss: 0.5062 - accuracy: 0.8178 - 4s/epoch - 2ms/step\n",
            "Epoch 2/10\n",
            "1875/1875 - 3s - loss: 0.3741 - accuracy: 0.8633 - 3s/epoch - 2ms/step\n",
            "Epoch 3/10\n",
            "1875/1875 - 3s - loss: 0.3337 - accuracy: 0.8767 - 3s/epoch - 2ms/step\n",
            "Epoch 4/10\n",
            "1875/1875 - 3s - loss: 0.3078 - accuracy: 0.8868 - 3s/epoch - 2ms/step\n",
            "Epoch 5/10\n",
            "1875/1875 - 4s - loss: 0.2884 - accuracy: 0.8924 - 4s/epoch - 2ms/step\n",
            "Epoch 6/10\n",
            "1875/1875 - 3s - loss: 0.2748 - accuracy: 0.8969 - 3s/epoch - 2ms/step\n",
            "Epoch 7/10\n",
            "1875/1875 - 3s - loss: 0.2616 - accuracy: 0.9025 - 3s/epoch - 2ms/step\n",
            "Epoch 8/10\n",
            "1875/1875 - 3s - loss: 0.2502 - accuracy: 0.9061 - 3s/epoch - 2ms/step\n",
            "Epoch 9/10\n",
            "1875/1875 - 3s - loss: 0.2400 - accuracy: 0.9100 - 3s/epoch - 2ms/step\n",
            "Epoch 10/10\n",
            "1875/1875 - 3s - loss: 0.2297 - accuracy: 0.9133 - 3s/epoch - 2ms/step\n",
            "Evaluating the model for layers = 120\n",
            "\n",
            "313/313 - 1s - loss: 0.3228 - accuracy: 0.8855 - 502ms/epoch - 2ms/step\n",
            "\n",
            "Test accuracy: 0.8855000138282776\n",
            "Building the model......\n",
            "\n",
            "Compiling the model.......\n",
            "\n",
            "Fitting the model for layers = 140\n",
            "\n",
            "Epoch 1/10\n",
            "1875/1875 - 4s - loss: 0.5069 - accuracy: 0.8185 - 4s/epoch - 2ms/step\n",
            "Epoch 2/10\n",
            "1875/1875 - 4s - loss: 0.3705 - accuracy: 0.8650 - 4s/epoch - 2ms/step\n",
            "Epoch 3/10\n",
            "1875/1875 - 4s - loss: 0.3309 - accuracy: 0.8777 - 4s/epoch - 2ms/step\n",
            "Epoch 4/10\n",
            "1875/1875 - 4s - loss: 0.3045 - accuracy: 0.8864 - 4s/epoch - 2ms/step\n",
            "Epoch 5/10\n",
            "1875/1875 - 4s - loss: 0.2869 - accuracy: 0.8931 - 4s/epoch - 2ms/step\n",
            "Epoch 6/10\n",
            "1875/1875 - 4s - loss: 0.2714 - accuracy: 0.8978 - 4s/epoch - 2ms/step\n",
            "Epoch 7/10\n",
            "1875/1875 - 4s - loss: 0.2572 - accuracy: 0.9034 - 4s/epoch - 2ms/step\n",
            "Epoch 8/10\n",
            "1875/1875 - 4s - loss: 0.2443 - accuracy: 0.9088 - 4s/epoch - 2ms/step\n",
            "Epoch 9/10\n",
            "1875/1875 - 4s - loss: 0.2368 - accuracy: 0.9111 - 4s/epoch - 2ms/step\n",
            "Epoch 10/10\n",
            "1875/1875 - 4s - loss: 0.2248 - accuracy: 0.9159 - 4s/epoch - 2ms/step\n",
            "Evaluating the model for layers = 140\n",
            "\n",
            "313/313 - 1s - loss: 0.3249 - accuracy: 0.8853 - 556ms/epoch - 2ms/step\n",
            "\n",
            "Test accuracy: 0.8852999806404114\n",
            "Building the model......\n",
            "\n",
            "Compiling the model.......\n",
            "\n",
            "Fitting the model for layers = 160\n",
            "\n",
            "Epoch 1/10\n",
            "1875/1875 - 4s - loss: 0.5023 - accuracy: 0.8206 - 4s/epoch - 2ms/step\n",
            "Epoch 2/10\n",
            "1875/1875 - 4s - loss: 0.3692 - accuracy: 0.8651 - 4s/epoch - 2ms/step\n",
            "Epoch 3/10\n",
            "1875/1875 - 4s - loss: 0.3308 - accuracy: 0.8777 - 4s/epoch - 2ms/step\n",
            "Epoch 4/10\n",
            "1875/1875 - 4s - loss: 0.3050 - accuracy: 0.8860 - 4s/epoch - 2ms/step\n",
            "Epoch 5/10\n",
            "1875/1875 - 4s - loss: 0.2867 - accuracy: 0.8935 - 4s/epoch - 2ms/step\n",
            "Epoch 6/10\n",
            "1875/1875 - 4s - loss: 0.2692 - accuracy: 0.8985 - 4s/epoch - 2ms/step\n",
            "Epoch 7/10\n",
            "1875/1875 - 4s - loss: 0.2582 - accuracy: 0.9020 - 4s/epoch - 2ms/step\n",
            "Epoch 8/10\n",
            "1875/1875 - 4s - loss: 0.2431 - accuracy: 0.9094 - 4s/epoch - 2ms/step\n",
            "Epoch 9/10\n",
            "1875/1875 - 4s - loss: 0.2332 - accuracy: 0.9122 - 4s/epoch - 2ms/step\n",
            "Epoch 10/10\n",
            "1875/1875 - 4s - loss: 0.2240 - accuracy: 0.9152 - 4s/epoch - 2ms/step\n",
            "Evaluating the model for layers = 160\n",
            "\n",
            "313/313 - 1s - loss: 0.3167 - accuracy: 0.8873 - 546ms/epoch - 2ms/step\n",
            "\n",
            "Test accuracy: 0.8873000144958496\n",
            "Building the model......\n",
            "\n",
            "Compiling the model.......\n",
            "\n",
            "Fitting the model for layers = 180\n",
            "\n",
            "Epoch 1/10\n",
            "1875/1875 - 5s - loss: 0.4939 - accuracy: 0.8215 - 5s/epoch - 3ms/step\n",
            "Epoch 2/10\n",
            "1875/1875 - 4s - loss: 0.3624 - accuracy: 0.8662 - 4s/epoch - 2ms/step\n",
            "Epoch 3/10\n",
            "1875/1875 - 4s - loss: 0.3265 - accuracy: 0.8791 - 4s/epoch - 2ms/step\n",
            "Epoch 4/10\n",
            "1875/1875 - 4s - loss: 0.3009 - accuracy: 0.8884 - 4s/epoch - 2ms/step\n",
            "Epoch 5/10\n",
            "1875/1875 - 4s - loss: 0.2809 - accuracy: 0.8950 - 4s/epoch - 2ms/step\n",
            "Epoch 6/10\n",
            "1875/1875 - 4s - loss: 0.2651 - accuracy: 0.8999 - 4s/epoch - 2ms/step\n",
            "Epoch 7/10\n",
            "1875/1875 - 4s - loss: 0.2529 - accuracy: 0.9052 - 4s/epoch - 2ms/step\n",
            "Epoch 8/10\n",
            "1875/1875 - 4s - loss: 0.2402 - accuracy: 0.9090 - 4s/epoch - 2ms/step\n",
            "Epoch 9/10\n",
            "1875/1875 - 4s - loss: 0.2301 - accuracy: 0.9131 - 4s/epoch - 2ms/step\n",
            "Epoch 10/10\n",
            "1875/1875 - 4s - loss: 0.2207 - accuracy: 0.9166 - 4s/epoch - 2ms/step\n",
            "Evaluating the model for layers = 180\n",
            "\n",
            "313/313 - 1s - loss: 0.3225 - accuracy: 0.8845 - 566ms/epoch - 2ms/step\n",
            "\n",
            "Test accuracy: 0.8845000267028809\n",
            "Building the model......\n",
            "\n",
            "Compiling the model.......\n",
            "\n",
            "Fitting the model for layers = 200\n",
            "\n",
            "Epoch 1/10\n",
            "1875/1875 - 5s - loss: 0.4907 - accuracy: 0.8226 - 5s/epoch - 3ms/step\n",
            "Epoch 2/10\n",
            "1875/1875 - 5s - loss: 0.3627 - accuracy: 0.8663 - 5s/epoch - 2ms/step\n",
            "Epoch 3/10\n",
            "1875/1875 - 5s - loss: 0.3253 - accuracy: 0.8792 - 5s/epoch - 2ms/step\n",
            "Epoch 4/10\n",
            "1875/1875 - 4s - loss: 0.3017 - accuracy: 0.8868 - 4s/epoch - 2ms/step\n",
            "Epoch 5/10\n",
            "1875/1875 - 4s - loss: 0.2803 - accuracy: 0.8949 - 4s/epoch - 2ms/step\n",
            "Epoch 6/10\n",
            "1875/1875 - 5s - loss: 0.2655 - accuracy: 0.9008 - 5s/epoch - 2ms/step\n",
            "Epoch 7/10\n",
            "1875/1875 - 5s - loss: 0.2511 - accuracy: 0.9056 - 5s/epoch - 2ms/step\n",
            "Epoch 8/10\n",
            "1875/1875 - 4s - loss: 0.2380 - accuracy: 0.9106 - 4s/epoch - 2ms/step\n",
            "Epoch 9/10\n",
            "1875/1875 - 4s - loss: 0.2259 - accuracy: 0.9152 - 4s/epoch - 2ms/step\n",
            "Epoch 10/10\n",
            "1875/1875 - 5s - loss: 0.2160 - accuracy: 0.9179 - 5s/epoch - 2ms/step\n",
            "Evaluating the model for layers = 200\n",
            "\n",
            "313/313 - 1s - loss: 0.3311 - accuracy: 0.8841 - 546ms/epoch - 2ms/step\n",
            "\n",
            "Test accuracy: 0.8841000199317932\n",
            "Building the model......\n",
            "\n",
            "Compiling the model.......\n",
            "\n",
            "Fitting the model for layers = 220\n",
            "\n",
            "Epoch 1/10\n",
            "1875/1875 - 5s - loss: 0.4864 - accuracy: 0.8238 - 5s/epoch - 2ms/step\n",
            "Epoch 2/10\n",
            "1875/1875 - 5s - loss: 0.3622 - accuracy: 0.8677 - 5s/epoch - 2ms/step\n",
            "Epoch 3/10\n",
            "1875/1875 - 4s - loss: 0.3203 - accuracy: 0.8808 - 4s/epoch - 2ms/step\n",
            "Epoch 4/10\n",
            "1875/1875 - 4s - loss: 0.2964 - accuracy: 0.8898 - 4s/epoch - 2ms/step\n",
            "Epoch 5/10\n",
            "1875/1875 - 5s - loss: 0.2753 - accuracy: 0.8970 - 5s/epoch - 3ms/step\n",
            "Epoch 6/10\n",
            "1875/1875 - 4s - loss: 0.2595 - accuracy: 0.9024 - 4s/epoch - 2ms/step\n",
            "Epoch 7/10\n",
            "1875/1875 - 4s - loss: 0.2458 - accuracy: 0.9079 - 4s/epoch - 2ms/step\n",
            "Epoch 8/10\n",
            "1875/1875 - 5s - loss: 0.2337 - accuracy: 0.9111 - 5s/epoch - 2ms/step\n",
            "Epoch 9/10\n",
            "1875/1875 - 5s - loss: 0.2231 - accuracy: 0.9170 - 5s/epoch - 3ms/step\n",
            "Epoch 10/10\n",
            "1875/1875 - 4s - loss: 0.2119 - accuracy: 0.9190 - 4s/epoch - 2ms/step\n",
            "Evaluating the model for layers = 220\n",
            "\n",
            "313/313 - 1s - loss: 0.3161 - accuracy: 0.8885 - 560ms/epoch - 2ms/step\n",
            "\n",
            "Test accuracy: 0.8884999752044678\n",
            "Building the model......\n",
            "\n",
            "Compiling the model.......\n",
            "\n",
            "Fitting the model for layers = 240\n",
            "\n",
            "Epoch 1/10\n",
            "1875/1875 - 5s - loss: 0.4879 - accuracy: 0.8228 - 5s/epoch - 3ms/step\n",
            "Epoch 2/10\n",
            "1875/1875 - 4s - loss: 0.3578 - accuracy: 0.8691 - 4s/epoch - 2ms/step\n",
            "Epoch 3/10\n",
            "1875/1875 - 4s - loss: 0.3201 - accuracy: 0.8809 - 4s/epoch - 2ms/step\n",
            "Epoch 4/10\n",
            "1875/1875 - 5s - loss: 0.2943 - accuracy: 0.8906 - 5s/epoch - 3ms/step\n",
            "Epoch 5/10\n",
            "1875/1875 - 5s - loss: 0.2748 - accuracy: 0.8975 - 5s/epoch - 3ms/step\n",
            "Epoch 6/10\n",
            "1875/1875 - 4s - loss: 0.2595 - accuracy: 0.9023 - 4s/epoch - 2ms/step\n",
            "Epoch 7/10\n",
            "1875/1875 - 5s - loss: 0.2463 - accuracy: 0.9071 - 5s/epoch - 2ms/step\n",
            "Epoch 8/10\n",
            "1875/1875 - 5s - loss: 0.2323 - accuracy: 0.9132 - 5s/epoch - 2ms/step\n",
            "Epoch 9/10\n",
            "1875/1875 - 4s - loss: 0.2221 - accuracy: 0.9161 - 4s/epoch - 2ms/step\n",
            "Epoch 10/10\n",
            "1875/1875 - 5s - loss: 0.2115 - accuracy: 0.9201 - 5s/epoch - 2ms/step\n",
            "Evaluating the model for layers = 240\n",
            "\n",
            "313/313 - 1s - loss: 0.3409 - accuracy: 0.8789 - 636ms/epoch - 2ms/step\n",
            "\n",
            "Test accuracy: 0.8788999915122986\n",
            "Building the model......\n",
            "\n",
            "Compiling the model.......\n",
            "\n",
            "Fitting the model for layers = 260\n",
            "\n",
            "Epoch 1/10\n",
            "1875/1875 - 6s - loss: 0.4823 - accuracy: 0.8247 - 6s/epoch - 3ms/step\n",
            "Epoch 2/10\n",
            "1875/1875 - 5s - loss: 0.3584 - accuracy: 0.8689 - 5s/epoch - 3ms/step\n",
            "Epoch 3/10\n",
            "1875/1875 - 5s - loss: 0.3186 - accuracy: 0.8811 - 5s/epoch - 3ms/step\n",
            "Epoch 4/10\n",
            "1875/1875 - 5s - loss: 0.2929 - accuracy: 0.8902 - 5s/epoch - 3ms/step\n",
            "Epoch 5/10\n",
            "1875/1875 - 5s - loss: 0.2737 - accuracy: 0.8967 - 5s/epoch - 3ms/step\n",
            "Epoch 6/10\n",
            "1875/1875 - 5s - loss: 0.2577 - accuracy: 0.9038 - 5s/epoch - 3ms/step\n",
            "Epoch 7/10\n",
            "1875/1875 - 5s - loss: 0.2437 - accuracy: 0.9087 - 5s/epoch - 3ms/step\n",
            "Epoch 8/10\n",
            "1875/1875 - 5s - loss: 0.2301 - accuracy: 0.9129 - 5s/epoch - 3ms/step\n",
            "Epoch 9/10\n",
            "1875/1875 - 5s - loss: 0.2189 - accuracy: 0.9167 - 5s/epoch - 3ms/step\n",
            "Epoch 10/10\n",
            "1875/1875 - 5s - loss: 0.2087 - accuracy: 0.9209 - 5s/epoch - 3ms/step\n",
            "Evaluating the model for layers = 260\n",
            "\n",
            "313/313 - 1s - loss: 0.3235 - accuracy: 0.8871 - 608ms/epoch - 2ms/step\n",
            "\n",
            "Test accuracy: 0.8870999813079834\n"
          ]
        }
      ]
    },
    {
      "cell_type": "markdown",
      "source": [
        "###Evaluating best accuracy based on number of neurons in Dense layer 1"
      ],
      "metadata": {
        "id": "xUYdOgg6q3Fx"
      }
    },
    {
      "cell_type": "code",
      "source": [
        "plt.xlabel('Number of neurons in Dense layer 1')\n",
        "plt.ylabel('Accuracy')\n",
        "plt.title('Evaluating accuracy based on number of neurons')\n",
        "plt.plot(layers, accuracy)"
      ],
      "metadata": {
        "colab": {
          "base_uri": "https://localhost:8080/",
          "height": 312
        },
        "id": "nzOhXoWVq-Jf",
        "outputId": "3441697a-2bea-4b8b-d618-d948b1eab629"
      },
      "execution_count": 56,
      "outputs": [
        {
          "output_type": "execute_result",
          "data": {
            "text/plain": [
              "[<matplotlib.lines.Line2D at 0x7fcd93ecbd50>]"
            ]
          },
          "metadata": {},
          "execution_count": 56
        },
        {
          "output_type": "display_data",
          "data": {
            "text/plain": [
              "<Figure size 432x288 with 1 Axes>"
            ],
            "image/png": "[encoded data removed]"
          },
          "metadata": {
            "needs_background": "light"
          }
        }
      ]
    },
    {
      "cell_type": "markdown",
      "source": [
        ""
      ],
      "metadata": {
        "id": "lh15bhEYumdg"
      }
    },
    {
      "cell_type": "markdown",
      "source": [
        "###Trying with different Values of dropouts and evaluating result\n"
      ],
      "metadata": {
        "id": "FS700IpVrsd8"
      }
    },
    {
      "cell_type": "code",
      "source": [
        "dropout = [0.0, 0.05, 0.1, 0.15, 0.2, 0.25, 0.3]\n",
        "accuracy = []\n",
        "#Dropout to dense layer 1 only\n",
        "for i in dropout:\n",
        "  print(\"Building the model......\\n\")\n",
        "  model = tf.keras.Sequential([\n",
        "    tf.keras.layers.Flatten(input_shape=(28, 28)),\n",
        "    tf.keras.layers.Dropout(i),\n",
        "    tf.keras.layers.Dense(128, activation='relu'),\n",
        "    tf.keras.layers.Dense(10)\n",
        "  ])\n",
        "  print(\"Compiling the model.......\\n\")\n",
        "  model.compile(optimizer='adam',\n",
        "              loss=tf.keras.losses.SparseCategoricalCrossentropy(from_logits=True),\n",
        "              metrics=['accuracy'])\n",
        "  print(\"Fitting the model for dropout = {}\\n\".format(i))\n",
        "  model.fit(x_train, x_labels, epochs=10, verbose = 2)\n",
        "  print(\"Evaluating the model for dropout = {}\\n\".format(i))\n",
        "  test_loss, test_acc = model.evaluate(y_test,  y_labels, verbose=2)\n",
        "  print('\\nTest accuracy:', test_acc)\n",
        "  layers.append(i)\n",
        "  accuracy.append(test_acc)"
      ],
      "metadata": {
        "colab": {
          "base_uri": "https://localhost:8080/"
        },
        "id": "hWCYY5llrxkZ",
        "outputId": "5852e461-c7aa-4438-db9c-fba03de23fbd"
      },
      "execution_count": 63,
      "outputs": [
        {
          "output_type": "stream",
          "name": "stdout",
          "text": [
            "Building the model......\n",
            "\n",
            "Compiling the model.......\n",
            "\n",
            "Fitting the model for dropout = 0.0\n",
            "\n",
            "Epoch 1/10\n",
            "1875/1875 - 4s - loss: 0.5104 - accuracy: 0.8164 - 4s/epoch - 2ms/step\n",
            "Epoch 2/10\n",
            "1875/1875 - 4s - loss: 0.3743 - accuracy: 0.8629 - 4s/epoch - 2ms/step\n",
            "Epoch 3/10\n",
            "1875/1875 - 3s - loss: 0.3350 - accuracy: 0.8760 - 3s/epoch - 2ms/step\n",
            "Epoch 4/10\n",
            "1875/1875 - 4s - loss: 0.3105 - accuracy: 0.8840 - 4s/epoch - 2ms/step\n",
            "Epoch 5/10\n",
            "1875/1875 - 4s - loss: 0.2882 - accuracy: 0.8927 - 4s/epoch - 2ms/step\n",
            "Epoch 6/10\n",
            "1875/1875 - 3s - loss: 0.2742 - accuracy: 0.8971 - 3s/epoch - 2ms/step\n",
            "Epoch 7/10\n",
            "1875/1875 - 4s - loss: 0.2630 - accuracy: 0.9006 - 4s/epoch - 2ms/step\n",
            "Epoch 8/10\n",
            "1875/1875 - 4s - loss: 0.2497 - accuracy: 0.9071 - 4s/epoch - 2ms/step\n",
            "Epoch 9/10\n",
            "1875/1875 - 5s - loss: 0.2392 - accuracy: 0.9102 - 5s/epoch - 2ms/step\n",
            "Epoch 10/10\n",
            "1875/1875 - 4s - loss: 0.2296 - accuracy: 0.9139 - 4s/epoch - 2ms/step\n",
            "Evaluating the model for dropout = 0.0\n",
            "\n",
            "313/313 - 1s - loss: 0.3502 - accuracy: 0.8716 - 537ms/epoch - 2ms/step\n",
            "\n",
            "Test accuracy: 0.8715999722480774\n",
            "Building the model......\n",
            "\n",
            "Compiling the model.......\n",
            "\n",
            "Fitting the model for dropout = 0.05\n",
            "\n",
            "Epoch 1/10\n",
            "1875/1875 - 5s - loss: 0.5139 - accuracy: 0.8158 - 5s/epoch - 3ms/step\n",
            "Epoch 2/10\n",
            "1875/1875 - 4s - loss: 0.3843 - accuracy: 0.8593 - 4s/epoch - 2ms/step\n",
            "Epoch 3/10\n",
            "1875/1875 - 4s - loss: 0.3449 - accuracy: 0.8737 - 4s/epoch - 2ms/step\n",
            "Epoch 4/10\n",
            "1875/1875 - 4s - loss: 0.3204 - accuracy: 0.8808 - 4s/epoch - 2ms/step\n",
            "Epoch 5/10\n",
            "1875/1875 - 4s - loss: 0.3037 - accuracy: 0.8856 - 4s/epoch - 2ms/step\n",
            "Epoch 6/10\n",
            "1875/1875 - 4s - loss: 0.2882 - accuracy: 0.8922 - 4s/epoch - 2ms/step\n",
            "Epoch 7/10\n",
            "1875/1875 - 4s - loss: 0.2753 - accuracy: 0.8972 - 4s/epoch - 2ms/step\n",
            "Epoch 8/10\n",
            "1875/1875 - 4s - loss: 0.2654 - accuracy: 0.8985 - 4s/epoch - 2ms/step\n",
            "Epoch 9/10\n",
            "1875/1875 - 4s - loss: 0.2580 - accuracy: 0.9029 - 4s/epoch - 2ms/step\n",
            "Epoch 10/10\n",
            "1875/1875 - 4s - loss: 0.2482 - accuracy: 0.9060 - 4s/epoch - 2ms/step\n",
            "Evaluating the model for dropout = 0.05\n",
            "\n",
            "313/313 - 1s - loss: 0.3203 - accuracy: 0.8845 - 539ms/epoch - 2ms/step\n",
            "\n",
            "Test accuracy: 0.8845000267028809\n",
            "Building the model......\n",
            "\n",
            "Compiling the model.......\n",
            "\n",
            "Fitting the model for dropout = 0.1\n",
            "\n",
            "Epoch 1/10\n",
            "1875/1875 - 5s - loss: 0.5187 - accuracy: 0.8140 - 5s/epoch - 3ms/step\n",
            "Epoch 2/10\n",
            "1875/1875 - 5s - loss: 0.3943 - accuracy: 0.8548 - 5s/epoch - 2ms/step\n",
            "Epoch 3/10\n",
            "1875/1875 - 4s - loss: 0.3540 - accuracy: 0.8690 - 4s/epoch - 2ms/step\n",
            "Epoch 4/10\n",
            "1875/1875 - 4s - loss: 0.3320 - accuracy: 0.8763 - 4s/epoch - 2ms/step\n",
            "Epoch 5/10\n",
            "1875/1875 - 5s - loss: 0.3149 - accuracy: 0.8833 - 5s/epoch - 2ms/step\n",
            "Epoch 6/10\n",
            "1875/1875 - 5s - loss: 0.3006 - accuracy: 0.8878 - 5s/epoch - 2ms/step\n",
            "Epoch 7/10\n",
            "1875/1875 - 4s - loss: 0.2890 - accuracy: 0.8900 - 4s/epoch - 2ms/step\n",
            "Epoch 8/10\n",
            "1875/1875 - 4s - loss: 0.2793 - accuracy: 0.8945 - 4s/epoch - 2ms/step\n",
            "Epoch 9/10\n",
            "1875/1875 - 4s - loss: 0.2702 - accuracy: 0.8966 - 4s/epoch - 2ms/step\n",
            "Epoch 10/10\n",
            "1875/1875 - 4s - loss: 0.2639 - accuracy: 0.9000 - 4s/epoch - 2ms/step\n",
            "Evaluating the model for dropout = 0.1\n",
            "\n",
            "313/313 - 1s - loss: 0.3244 - accuracy: 0.8840 - 554ms/epoch - 2ms/step\n",
            "\n",
            "Test accuracy: 0.8840000033378601\n",
            "Building the model......\n",
            "\n",
            "Compiling the model.......\n",
            "\n",
            "Fitting the model for dropout = 0.15\n",
            "\n",
            "Epoch 1/10\n",
            "1875/1875 - 5s - loss: 0.5337 - accuracy: 0.8065 - 5s/epoch - 3ms/step\n",
            "Epoch 2/10\n",
            "1875/1875 - 4s - loss: 0.4039 - accuracy: 0.8522 - 4s/epoch - 2ms/step\n",
            "Epoch 3/10\n",
            "1875/1875 - 4s - loss: 0.3664 - accuracy: 0.8640 - 4s/epoch - 2ms/step\n",
            "Epoch 4/10\n",
            "1875/1875 - 5s - loss: 0.3432 - accuracy: 0.8721 - 5s/epoch - 2ms/step\n",
            "Epoch 5/10\n",
            "1875/1875 - 4s - loss: 0.3255 - accuracy: 0.8788 - 4s/epoch - 2ms/step\n",
            "Epoch 6/10\n",
            "1875/1875 - 4s - loss: 0.3146 - accuracy: 0.8818 - 4s/epoch - 2ms/step\n",
            "Epoch 7/10\n",
            "1875/1875 - 4s - loss: 0.3019 - accuracy: 0.8852 - 4s/epoch - 2ms/step\n",
            "Epoch 8/10\n",
            "1875/1875 - 4s - loss: 0.2939 - accuracy: 0.8896 - 4s/epoch - 2ms/step\n",
            "Epoch 9/10\n",
            "1875/1875 - 4s - loss: 0.2844 - accuracy: 0.8924 - 4s/epoch - 2ms/step\n",
            "Epoch 10/10\n",
            "1875/1875 - 4s - loss: 0.2761 - accuracy: 0.8949 - 4s/epoch - 2ms/step\n",
            "Evaluating the model for dropout = 0.15\n",
            "\n",
            "313/313 - 1s - loss: 0.3238 - accuracy: 0.8821 - 510ms/epoch - 2ms/step\n",
            "\n",
            "Test accuracy: 0.882099986076355\n",
            "Building the model......\n",
            "\n",
            "Compiling the model.......\n",
            "\n",
            "Fitting the model for dropout = 0.2\n",
            "\n",
            "Epoch 1/10\n",
            "1875/1875 - 5s - loss: 0.5388 - accuracy: 0.8044 - 5s/epoch - 2ms/step\n",
            "Epoch 2/10\n",
            "1875/1875 - 4s - loss: 0.4112 - accuracy: 0.8490 - 4s/epoch - 2ms/step\n",
            "Epoch 3/10\n",
            "1875/1875 - 4s - loss: 0.3745 - accuracy: 0.8605 - 4s/epoch - 2ms/step\n",
            "Epoch 4/10\n",
            "1875/1875 - 4s - loss: 0.3521 - accuracy: 0.8677 - 4s/epoch - 2ms/step\n",
            "Epoch 5/10\n",
            "1875/1875 - 4s - loss: 0.3333 - accuracy: 0.8756 - 4s/epoch - 2ms/step\n",
            "Epoch 6/10\n",
            "1875/1875 - 4s - loss: 0.3212 - accuracy: 0.8802 - 4s/epoch - 2ms/step\n",
            "Epoch 7/10\n",
            "1875/1875 - 4s - loss: 0.3099 - accuracy: 0.8825 - 4s/epoch - 2ms/step\n",
            "Epoch 8/10\n",
            "1875/1875 - 4s - loss: 0.3033 - accuracy: 0.8842 - 4s/epoch - 2ms/step\n",
            "Epoch 9/10\n",
            "1875/1875 - 4s - loss: 0.2942 - accuracy: 0.8883 - 4s/epoch - 2ms/step\n",
            "Epoch 10/10\n",
            "1875/1875 - 4s - loss: 0.2865 - accuracy: 0.8919 - 4s/epoch - 2ms/step\n",
            "Evaluating the model for dropout = 0.2\n",
            "\n",
            "313/313 - 1s - loss: 0.3222 - accuracy: 0.8828 - 523ms/epoch - 2ms/step\n",
            "\n",
            "Test accuracy: 0.8827999830245972\n",
            "Building the model......\n",
            "\n",
            "Compiling the model.......\n",
            "\n",
            "Fitting the model for dropout = 0.25\n",
            "\n",
            "Epoch 1/10\n",
            "1875/1875 - 5s - loss: 0.5517 - accuracy: 0.7999 - 5s/epoch - 3ms/step\n",
            "Epoch 2/10\n",
            "1875/1875 - 4s - loss: 0.4220 - accuracy: 0.8439 - 4s/epoch - 2ms/step\n",
            "Epoch 3/10\n",
            "1875/1875 - 4s - loss: 0.3829 - accuracy: 0.8559 - 4s/epoch - 2ms/step\n",
            "Epoch 4/10\n",
            "1875/1875 - 4s - loss: 0.3593 - accuracy: 0.8670 - 4s/epoch - 2ms/step\n",
            "Epoch 5/10\n",
            "1875/1875 - 4s - loss: 0.3418 - accuracy: 0.8708 - 4s/epoch - 2ms/step\n",
            "Epoch 6/10\n",
            "1875/1875 - 4s - loss: 0.3323 - accuracy: 0.8744 - 4s/epoch - 2ms/step\n",
            "Epoch 7/10\n",
            "1875/1875 - 4s - loss: 0.3204 - accuracy: 0.8795 - 4s/epoch - 2ms/step\n",
            "Epoch 8/10\n",
            "1875/1875 - 4s - loss: 0.3142 - accuracy: 0.8813 - 4s/epoch - 2ms/step\n",
            "Epoch 9/10\n",
            "1875/1875 - 4s - loss: 0.3025 - accuracy: 0.8852 - 4s/epoch - 2ms/step\n",
            "Epoch 10/10\n",
            "1875/1875 - 4s - loss: 0.2984 - accuracy: 0.8868 - 4s/epoch - 2ms/step\n",
            "Evaluating the model for dropout = 0.25\n",
            "\n",
            "313/313 - 1s - loss: 0.3250 - accuracy: 0.8782 - 539ms/epoch - 2ms/step\n",
            "\n",
            "Test accuracy: 0.8781999945640564\n",
            "Building the model......\n",
            "\n",
            "Compiling the model.......\n",
            "\n",
            "Fitting the model for dropout = 0.3\n",
            "\n",
            "Epoch 1/10\n",
            "1875/1875 - 5s - loss: 0.5629 - accuracy: 0.7943 - 5s/epoch - 3ms/step\n",
            "Epoch 2/10\n",
            "1875/1875 - 4s - loss: 0.4366 - accuracy: 0.8390 - 4s/epoch - 2ms/step\n",
            "Epoch 3/10\n",
            "1875/1875 - 5s - loss: 0.3974 - accuracy: 0.8525 - 5s/epoch - 3ms/step\n",
            "Epoch 4/10\n",
            "1875/1875 - 4s - loss: 0.3749 - accuracy: 0.8612 - 4s/epoch - 2ms/step\n",
            "Epoch 5/10\n",
            "1875/1875 - 5s - loss: 0.3583 - accuracy: 0.8641 - 5s/epoch - 3ms/step\n",
            "Epoch 6/10\n",
            "1875/1875 - 4s - loss: 0.3440 - accuracy: 0.8717 - 4s/epoch - 2ms/step\n",
            "Epoch 7/10\n",
            "1875/1875 - 5s - loss: 0.3334 - accuracy: 0.8750 - 5s/epoch - 2ms/step\n",
            "Epoch 8/10\n",
            "1875/1875 - 4s - loss: 0.3259 - accuracy: 0.8770 - 4s/epoch - 2ms/step\n",
            "Epoch 9/10\n",
            "1875/1875 - 4s - loss: 0.3183 - accuracy: 0.8798 - 4s/epoch - 2ms/step\n",
            "Epoch 10/10\n",
            "1875/1875 - 5s - loss: 0.3150 - accuracy: 0.8791 - 5s/epoch - 2ms/step\n",
            "Evaluating the model for dropout = 0.3\n",
            "\n",
            "313/313 - 1s - loss: 0.3358 - accuracy: 0.8742 - 911ms/epoch - 3ms/step\n",
            "\n",
            "Test accuracy: 0.8741999864578247\n"
          ]
        }
      ]
    },
    {
      "cell_type": "markdown",
      "source": [
        "###Evaluating accuracy for Dense layer neurons = 128 and dropout ranging from 0 to 0.3 in steps of 0.05"
      ],
      "metadata": {
        "id": "aMhJrLKduok0"
      }
    },
    {
      "cell_type": "code",
      "source": [
        "plt.xlabel('Dropout for Dense layer 1')\n",
        "plt.ylabel('Accuracy')\n",
        "plt.title('Evaluating accuracy based on Dropout')\n",
        "plt.plot(dropout, accuracy)"
      ],
      "metadata": {
        "colab": {
          "base_uri": "https://localhost:8080/",
          "height": 312
        },
        "id": "4DzONn8DuyTh",
        "outputId": "be7a7f3a-b7cb-443c-f8d2-05467b007003"
      },
      "execution_count": 64,
      "outputs": [
        {
          "output_type": "execute_result",
          "data": {
            "text/plain": [
              "[<matplotlib.lines.Line2D at 0x7fcd9415f0d0>]"
            ]
          },
          "metadata": {},
          "execution_count": 64
        },
        {
          "output_type": "display_data",
          "data": {
            "text/plain": [
              "<Figure size 432x288 with 1 Axes>"
            ],
            "image/png": "[encoded data removed]"
          },
          "metadata": {
            "needs_background": "light"
          }
        }
      ]
    },
    {
      "cell_type": "markdown",
      "source": [
        "###Trying dropout of 0.05 for Dense Layer 1 and different values of dropouts for Dense layer 2\n",
        "\n"
      ],
      "metadata": {
        "id": "S4Vp6CZqvAGj"
      }
    },
    {
      "cell_type": "code",
      "source": [
        "dropout = [0.0, 0.05, 0.1, 0.15, 0.2, 0.25, 0.3]\n",
        "accuracy = []\n",
        "#Dropout to dense layer 2 only with dropout for dense layer 1 as 0.05\n",
        "for i in dropout:\n",
        "  print(\"Building the model......\\n\")\n",
        "  model = tf.keras.Sequential([\n",
        "    tf.keras.layers.Flatten(input_shape=(28, 28)),\n",
        "    tf.keras.layers.Dropout(0.05),\n",
        "    tf.keras.layers.Dense(128, activation='relu'),\n",
        "    tf.keras.layers.Dropout(i),\n",
        "    tf.keras.layers.Dense(10)\n",
        "  ])\n",
        "  print(\"Compiling the model.......\\n\")\n",
        "  model.compile(optimizer='adam',\n",
        "              loss=tf.keras.losses.SparseCategoricalCrossentropy(from_logits=True),\n",
        "              metrics=['accuracy'])\n",
        "  print(\"Fitting the model for dropout = {}\\n\".format(i))\n",
        "  model.fit(x_train, x_labels, epochs=10, verbose = 2)\n",
        "  print(\"Evaluating the model for dropout = {}\\n\".format(i))\n",
        "  test_loss, test_acc = model.evaluate(y_test,  y_labels, verbose=2)\n",
        "  print('\\nTest accuracy:', test_acc)\n",
        "  layers.append(i)\n",
        "  accuracy.append(test_acc)"
      ],
      "metadata": {
        "colab": {
          "base_uri": "https://localhost:8080/"
        },
        "id": "c9lc-RZjvLXO",
        "outputId": "dadc0d11-10b6-4880-84f2-47b77985b162"
      },
      "execution_count": 66,
      "outputs": [
        {
          "output_type": "stream",
          "name": "stdout",
          "text": [
            "Building the model......\n",
            "\n",
            "Compiling the model.......\n",
            "\n",
            "Fitting the model for dropout = 0.0\n",
            "\n",
            "Epoch 1/10\n",
            "1875/1875 - 5s - loss: 0.5106 - accuracy: 0.8154 - 5s/epoch - 3ms/step\n",
            "Epoch 2/10\n",
            "1875/1875 - 4s - loss: 0.3832 - accuracy: 0.8595 - 4s/epoch - 2ms/step\n",
            "Epoch 3/10\n",
            "1875/1875 - 4s - loss: 0.3431 - accuracy: 0.8735 - 4s/epoch - 2ms/step\n",
            "Epoch 4/10\n",
            "1875/1875 - 4s - loss: 0.3223 - accuracy: 0.8789 - 4s/epoch - 2ms/step\n",
            "Epoch 5/10\n",
            "1875/1875 - 4s - loss: 0.3030 - accuracy: 0.8866 - 4s/epoch - 2ms/step\n",
            "Epoch 6/10\n",
            "1875/1875 - 4s - loss: 0.2881 - accuracy: 0.8909 - 4s/epoch - 2ms/step\n",
            "Epoch 7/10\n",
            "1875/1875 - 4s - loss: 0.2769 - accuracy: 0.8958 - 4s/epoch - 2ms/step\n",
            "Epoch 8/10\n",
            "1875/1875 - 5s - loss: 0.2671 - accuracy: 0.8986 - 5s/epoch - 2ms/step\n",
            "Epoch 9/10\n",
            "1875/1875 - 4s - loss: 0.2575 - accuracy: 0.9024 - 4s/epoch - 2ms/step\n",
            "Epoch 10/10\n",
            "1875/1875 - 4s - loss: 0.2490 - accuracy: 0.9057 - 4s/epoch - 2ms/step\n",
            "Evaluating the model for dropout = 0.0\n",
            "\n",
            "313/313 - 1s - loss: 0.3203 - accuracy: 0.8863 - 836ms/epoch - 3ms/step\n",
            "\n",
            "Test accuracy: 0.8863000273704529\n",
            "Building the model......\n",
            "\n",
            "Compiling the model.......\n",
            "\n",
            "Fitting the model for dropout = 0.05\n",
            "\n",
            "Epoch 1/10\n",
            "1875/1875 - 6s - loss: 0.5246 - accuracy: 0.8119 - 6s/epoch - 3ms/step\n",
            "Epoch 2/10\n",
            "1875/1875 - 5s - loss: 0.3928 - accuracy: 0.8558 - 5s/epoch - 2ms/step\n",
            "Epoch 3/10\n",
            "1875/1875 - 5s - loss: 0.3526 - accuracy: 0.8697 - 5s/epoch - 2ms/step\n",
            "Epoch 4/10\n",
            "1875/1875 - 5s - loss: 0.3305 - accuracy: 0.8764 - 5s/epoch - 2ms/step\n",
            "Epoch 5/10\n",
            "1875/1875 - 5s - loss: 0.3111 - accuracy: 0.8849 - 5s/epoch - 2ms/step\n",
            "Epoch 6/10\n",
            "1875/1875 - 5s - loss: 0.2973 - accuracy: 0.8876 - 5s/epoch - 3ms/step\n",
            "Epoch 7/10\n",
            "1875/1875 - 6s - loss: 0.2859 - accuracy: 0.8937 - 6s/epoch - 3ms/step\n",
            "Epoch 8/10\n",
            "1875/1875 - 5s - loss: 0.2749 - accuracy: 0.8975 - 5s/epoch - 2ms/step\n",
            "Epoch 9/10\n",
            "1875/1875 - 4s - loss: 0.2662 - accuracy: 0.8992 - 4s/epoch - 2ms/step\n",
            "Epoch 10/10\n",
            "1875/1875 - 5s - loss: 0.2591 - accuracy: 0.9013 - 5s/epoch - 2ms/step\n",
            "Evaluating the model for dropout = 0.05\n",
            "\n",
            "313/313 - 1s - loss: 0.3267 - accuracy: 0.8827 - 564ms/epoch - 2ms/step\n",
            "\n",
            "Test accuracy: 0.8827000260353088\n",
            "Building the model......\n",
            "\n",
            "Compiling the model.......\n",
            "\n",
            "Fitting the model for dropout = 0.1\n",
            "\n",
            "Epoch 1/10\n",
            "1875/1875 - 5s - loss: 0.5311 - accuracy: 0.8081 - 5s/epoch - 3ms/step\n",
            "Epoch 2/10\n",
            "1875/1875 - 4s - loss: 0.3930 - accuracy: 0.8567 - 4s/epoch - 2ms/step\n",
            "Epoch 3/10\n",
            "1875/1875 - 4s - loss: 0.3570 - accuracy: 0.8702 - 4s/epoch - 2ms/step\n",
            "Epoch 4/10\n",
            "1875/1875 - 4s - loss: 0.3339 - accuracy: 0.8769 - 4s/epoch - 2ms/step\n",
            "Epoch 5/10\n",
            "1875/1875 - 5s - loss: 0.3150 - accuracy: 0.8827 - 5s/epoch - 2ms/step\n",
            "Epoch 6/10\n",
            "1875/1875 - 4s - loss: 0.3028 - accuracy: 0.8865 - 4s/epoch - 2ms/step\n",
            "Epoch 7/10\n",
            "1875/1875 - 4s - loss: 0.2937 - accuracy: 0.8881 - 4s/epoch - 2ms/step\n",
            "Epoch 8/10\n",
            "1875/1875 - 5s - loss: 0.2831 - accuracy: 0.8924 - 5s/epoch - 2ms/step\n",
            "Epoch 9/10\n",
            "1875/1875 - 4s - loss: 0.2746 - accuracy: 0.8950 - 4s/epoch - 2ms/step\n",
            "Epoch 10/10\n",
            "1875/1875 - 5s - loss: 0.2669 - accuracy: 0.8982 - 5s/epoch - 3ms/step\n",
            "Evaluating the model for dropout = 0.1\n",
            "\n",
            "313/313 - 1s - loss: 0.3261 - accuracy: 0.8828 - 522ms/epoch - 2ms/step\n",
            "\n",
            "Test accuracy: 0.8827999830245972\n",
            "Building the model......\n",
            "\n",
            "Compiling the model.......\n",
            "\n",
            "Fitting the model for dropout = 0.15\n",
            "\n",
            "Epoch 1/10\n",
            "1875/1875 - 5s - loss: 0.5363 - accuracy: 0.8061 - 5s/epoch - 3ms/step\n",
            "Epoch 2/10\n",
            "1875/1875 - 5s - loss: 0.3968 - accuracy: 0.8541 - 5s/epoch - 2ms/step\n",
            "Epoch 3/10\n",
            "1875/1875 - 5s - loss: 0.3596 - accuracy: 0.8678 - 5s/epoch - 3ms/step\n",
            "Epoch 4/10\n",
            "1875/1875 - 5s - loss: 0.3362 - accuracy: 0.8749 - 5s/epoch - 2ms/step\n",
            "Epoch 5/10\n",
            "1875/1875 - 5s - loss: 0.3211 - accuracy: 0.8794 - 5s/epoch - 2ms/step\n",
            "Epoch 6/10\n",
            "1875/1875 - 5s - loss: 0.3099 - accuracy: 0.8843 - 5s/epoch - 3ms/step\n",
            "Epoch 7/10\n",
            "1875/1875 - 4s - loss: 0.3007 - accuracy: 0.8869 - 4s/epoch - 2ms/step\n",
            "Epoch 8/10\n",
            "1875/1875 - 5s - loss: 0.2904 - accuracy: 0.8905 - 5s/epoch - 2ms/step\n",
            "Epoch 9/10\n",
            "1875/1875 - 5s - loss: 0.2813 - accuracy: 0.8955 - 5s/epoch - 2ms/step\n",
            "Epoch 10/10\n",
            "1875/1875 - 4s - loss: 0.2757 - accuracy: 0.8958 - 4s/epoch - 2ms/step\n",
            "Evaluating the model for dropout = 0.15\n",
            "\n",
            "313/313 - 1s - loss: 0.3259 - accuracy: 0.8831 - 537ms/epoch - 2ms/step\n",
            "\n",
            "Test accuracy: 0.8830999732017517\n",
            "Building the model......\n",
            "\n",
            "Compiling the model.......\n",
            "\n",
            "Fitting the model for dropout = 0.2\n",
            "\n",
            "Epoch 1/10\n",
            "1875/1875 - 6s - loss: 0.5458 - accuracy: 0.8031 - 6s/epoch - 3ms/step\n",
            "Epoch 2/10\n",
            "1875/1875 - 7s - loss: 0.4053 - accuracy: 0.8507 - 7s/epoch - 4ms/step\n",
            "Epoch 3/10\n",
            "1875/1875 - 6s - loss: 0.3659 - accuracy: 0.8631 - 6s/epoch - 3ms/step\n",
            "Epoch 4/10\n",
            "1875/1875 - 5s - loss: 0.3423 - accuracy: 0.8742 - 5s/epoch - 3ms/step\n",
            "Epoch 5/10\n",
            "1875/1875 - 6s - loss: 0.3245 - accuracy: 0.8798 - 6s/epoch - 3ms/step\n",
            "Epoch 6/10\n",
            "1875/1875 - 5s - loss: 0.3162 - accuracy: 0.8818 - 5s/epoch - 3ms/step\n",
            "Epoch 7/10\n",
            "1875/1875 - 5s - loss: 0.3050 - accuracy: 0.8856 - 5s/epoch - 3ms/step\n",
            "Epoch 8/10\n",
            "1875/1875 - 5s - loss: 0.2975 - accuracy: 0.8891 - 5s/epoch - 3ms/step\n",
            "Epoch 9/10\n",
            "1875/1875 - 5s - loss: 0.2897 - accuracy: 0.8918 - 5s/epoch - 3ms/step\n",
            "Epoch 10/10\n",
            "1875/1875 - 6s - loss: 0.2845 - accuracy: 0.8940 - 6s/epoch - 3ms/step\n",
            "Evaluating the model for dropout = 0.2\n",
            "\n",
            "313/313 - 1s - loss: 0.3284 - accuracy: 0.8796 - 518ms/epoch - 2ms/step\n",
            "\n",
            "Test accuracy: 0.8795999884605408\n",
            "Building the model......\n",
            "\n",
            "Compiling the model.......\n",
            "\n",
            "Fitting the model for dropout = 0.25\n",
            "\n",
            "Epoch 1/10\n",
            "1875/1875 - 60s - loss: 0.5529 - accuracy: 0.8005 - 60s/epoch - 32ms/step\n",
            "Epoch 2/10\n",
            "1875/1875 - 4s - loss: 0.4126 - accuracy: 0.8500 - 4s/epoch - 2ms/step\n",
            "Epoch 3/10\n",
            "1875/1875 - 5s - loss: 0.3771 - accuracy: 0.8614 - 5s/epoch - 2ms/step\n",
            "Epoch 4/10\n",
            "1875/1875 - 5s - loss: 0.3545 - accuracy: 0.8690 - 5s/epoch - 2ms/step\n",
            "Epoch 5/10\n",
            "1875/1875 - 4s - loss: 0.3385 - accuracy: 0.8753 - 4s/epoch - 2ms/step\n",
            "Epoch 6/10\n",
            "1875/1875 - 5s - loss: 0.3236 - accuracy: 0.8793 - 5s/epoch - 2ms/step\n",
            "Epoch 7/10\n",
            "1875/1875 - 5s - loss: 0.3160 - accuracy: 0.8826 - 5s/epoch - 2ms/step\n",
            "Epoch 8/10\n",
            "1875/1875 - 5s - loss: 0.3067 - accuracy: 0.8853 - 5s/epoch - 3ms/step\n",
            "Epoch 9/10\n",
            "1875/1875 - 5s - loss: 0.2977 - accuracy: 0.8881 - 5s/epoch - 3ms/step\n",
            "Epoch 10/10\n",
            "1875/1875 - 5s - loss: 0.2927 - accuracy: 0.8914 - 5s/epoch - 2ms/step\n",
            "Evaluating the model for dropout = 0.25\n",
            "\n",
            "313/313 - 1s - loss: 0.3279 - accuracy: 0.8787 - 560ms/epoch - 2ms/step\n",
            "\n",
            "Test accuracy: 0.8787000179290771\n",
            "Building the model......\n",
            "\n",
            "Compiling the model.......\n",
            "\n",
            "Fitting the model for dropout = 0.3\n",
            "\n",
            "Epoch 1/10\n",
            "1875/1875 - 5s - loss: 0.5652 - accuracy: 0.7956 - 5s/epoch - 3ms/step\n",
            "Epoch 2/10\n",
            "1875/1875 - 5s - loss: 0.4191 - accuracy: 0.8457 - 5s/epoch - 2ms/step\n",
            "Epoch 3/10\n",
            "1875/1875 - 5s - loss: 0.3850 - accuracy: 0.8590 - 5s/epoch - 3ms/step\n",
            "Epoch 4/10\n",
            "1875/1875 - 5s - loss: 0.3616 - accuracy: 0.8672 - 5s/epoch - 3ms/step\n",
            "Epoch 5/10\n",
            "1875/1875 - 5s - loss: 0.3474 - accuracy: 0.8733 - 5s/epoch - 2ms/step\n",
            "Epoch 6/10\n",
            "1875/1875 - 5s - loss: 0.3368 - accuracy: 0.8736 - 5s/epoch - 3ms/step\n",
            "Epoch 7/10\n",
            "1875/1875 - 5s - loss: 0.3274 - accuracy: 0.8788 - 5s/epoch - 3ms/step\n",
            "Epoch 8/10\n",
            "1875/1875 - 5s - loss: 0.3161 - accuracy: 0.8831 - 5s/epoch - 3ms/step\n",
            "Epoch 9/10\n",
            "1875/1875 - 5s - loss: 0.3120 - accuracy: 0.8839 - 5s/epoch - 3ms/step\n",
            "Epoch 10/10\n",
            "1875/1875 - 5s - loss: 0.3050 - accuracy: 0.8865 - 5s/epoch - 3ms/step\n",
            "Evaluating the model for dropout = 0.3\n",
            "\n",
            "313/313 - 1s - loss: 0.3371 - accuracy: 0.8786 - 527ms/epoch - 2ms/step\n",
            "\n",
            "Test accuracy: 0.878600001335144\n"
          ]
        }
      ]
    },
    {
      "cell_type": "markdown",
      "source": [
        "###Evaluating for dropout of different values for dense layer 2 with dropout of dense layer 1 fixed at 0.05"
      ],
      "metadata": {
        "id": "kIzgyiMswR7V"
      }
    },
    {
      "cell_type": "code",
      "source": [
        "plt.xlabel('Dropout for Dense layer 2')\n",
        "plt.ylabel('Accuracy')\n",
        "plt.title('Evaluating accuracy based on Dropout')\n",
        "plt.plot(dropout, accuracy)"
      ],
      "metadata": {
        "colab": {
          "base_uri": "https://localhost:8080/",
          "height": 312
        },
        "id": "xJ-DYZeJwaB6",
        "outputId": "0d874674-5400-4ca2-9118-968b47cc4e0e"
      },
      "execution_count": 67,
      "outputs": [
        {
          "output_type": "execute_result",
          "data": {
            "text/plain": [
              "[<matplotlib.lines.Line2D at 0x7fcda0282c10>]"
            ]
          },
          "metadata": {},
          "execution_count": 67
        },
        {
          "output_type": "display_data",
          "data": {
            "text/plain": [
              "<Figure size 432x288 with 1 Axes>"
            ],
            "image/png": "[encoded data removed]"
          },
          "metadata": {
            "needs_background": "light"
          }
        }
      ]
    },
    {
      "cell_type": "markdown",
      "source": [
        "Dropout to dense layer 2 reduces the accuracy\n"
      ],
      "metadata": {
        "id": "pFcZxjXHxfz5"
      }
    },
    {
      "cell_type": "markdown",
      "source": [
        "### Layer 1 = 200, Dropout to Layer 1 = 0.05\n"
      ],
      "metadata": {
        "id": "FPXPaYgyxlX-"
      }
    },
    {
      "cell_type": "code",
      "source": [
        "print(\"Building the model......\\n\")\n",
        "model = tf.keras.Sequential([\n",
        "    tf.keras.layers.Flatten(input_shape=(28, 28)),\n",
        "    tf.keras.layers.Dropout(0.05),\n",
        "    tf.keras.layers.Dense(200, activation='relu'),\n",
        "    tf.keras.layers.Dense(10)\n",
        "  ])\n",
        "print(\"Compiling the model.......\\n\")\n",
        "model.compile(optimizer='adam',\n",
        "              loss=tf.keras.losses.SparseCategoricalCrossentropy(from_logits=True),\n",
        "              metrics=['accuracy'])\n",
        "print(\"Fitting the model \\n\")\n",
        "model.fit(x_train, x_labels, epochs=10, verbose = 2)\n",
        "print(\"Evaluating the model \\n\")\n",
        "test_loss, test_acc = model.evaluate(y_test,  y_labels, verbose=2)\n",
        "print('\\nTest accuracy:', test_acc)"
      ],
      "metadata": {
        "colab": {
          "base_uri": "https://localhost:8080/"
        },
        "id": "anGiuJ5Uxjhj",
        "outputId": "da1f4a03-c6ac-4bab-845f-d11347de7904"
      },
      "execution_count": 68,
      "outputs": [
        {
          "output_type": "stream",
          "name": "stdout",
          "text": [
            "Building the model......\n",
            "\n",
            "Compiling the model.......\n",
            "\n",
            "Fitting the model \n",
            "\n",
            "Epoch 1/10\n",
            "1875/1875 - 6s - loss: 0.4995 - accuracy: 0.8187 - 6s/epoch - 3ms/step\n",
            "Epoch 2/10\n",
            "1875/1875 - 5s - loss: 0.3741 - accuracy: 0.8612 - 5s/epoch - 3ms/step\n",
            "Epoch 3/10\n",
            "1875/1875 - 5s - loss: 0.3343 - accuracy: 0.8764 - 5s/epoch - 3ms/step\n",
            "Epoch 4/10\n",
            "1875/1875 - 5s - loss: 0.3109 - accuracy: 0.8836 - 5s/epoch - 3ms/step\n",
            "Epoch 5/10\n",
            "1875/1875 - 5s - loss: 0.2907 - accuracy: 0.8906 - 5s/epoch - 3ms/step\n",
            "Epoch 6/10\n",
            "1875/1875 - 5s - loss: 0.2760 - accuracy: 0.8971 - 5s/epoch - 3ms/step\n",
            "Epoch 7/10\n",
            "1875/1875 - 5s - loss: 0.2653 - accuracy: 0.8992 - 5s/epoch - 3ms/step\n",
            "Epoch 8/10\n",
            "1875/1875 - 5s - loss: 0.2534 - accuracy: 0.9039 - 5s/epoch - 3ms/step\n",
            "Epoch 9/10\n",
            "1875/1875 - 5s - loss: 0.2438 - accuracy: 0.9077 - 5s/epoch - 3ms/step\n",
            "Epoch 10/10\n",
            "1875/1875 - 5s - loss: 0.2345 - accuracy: 0.9111 - 5s/epoch - 3ms/step\n",
            "Evaluating the model \n",
            "\n",
            "313/313 - 1s - loss: 0.3206 - accuracy: 0.8833 - 587ms/epoch - 2ms/step\n",
            "\n",
            "Test accuracy: 0.8833000063896179\n"
          ]
        }
      ]
    },
    {
      "cell_type": "markdown",
      "source": [
        "###Keeping number of neurons at 128 and applying dropout of 0.05 for dense layer 1 and increasing the number of epochs to 50"
      ],
      "metadata": {
        "id": "9dfzSHlAym0o"
      }
    },
    {
      "cell_type": "code",
      "source": [
        "print(\"Building the model......\\n\")\n",
        "model = tf.keras.Sequential([\n",
        "    tf.keras.layers.Flatten(input_shape=(28, 28)),\n",
        "    tf.keras.layers.Dropout(0.05),\n",
        "    tf.keras.layers.Dense(128, activation='relu'),\n",
        "    tf.keras.layers.Dense(10)\n",
        "  ])\n",
        "print(\"Compiling the model.......\\n\")\n",
        "model.compile(optimizer='adam',\n",
        "              loss=tf.keras.losses.SparseCategoricalCrossentropy(from_logits=True),\n",
        "              metrics=['accuracy'])\n",
        "print(\"Fitting the model \\n\")\n",
        "model.fit(x_train, x_labels, epochs=50, verbose = 2)\n",
        "print(\"Evaluating the model \\n\")\n",
        "test_loss, test_acc = model.evaluate(y_test,  y_labels, verbose=2)\n",
        "print('\\nTest accuracy:', test_acc)"
      ],
      "metadata": {
        "colab": {
          "base_uri": "https://localhost:8080/"
        },
        "id": "ZMG6DHbKywyR",
        "outputId": "9802a90f-a4fb-436d-f775-bbf258c1b6cc"
      },
      "execution_count": 69,
      "outputs": [
        {
          "output_type": "stream",
          "name": "stdout",
          "text": [
            "Building the model......\n",
            "\n",
            "Compiling the model.......\n",
            "\n",
            "Fitting the model \n",
            "\n",
            "Epoch 1/50\n",
            "1875/1875 - 5s - loss: 0.5134 - accuracy: 0.8160 - 5s/epoch - 2ms/step\n",
            "Epoch 2/50\n",
            "1875/1875 - 4s - loss: 0.3851 - accuracy: 0.8580 - 4s/epoch - 2ms/step\n",
            "Epoch 3/50\n",
            "1875/1875 - 4s - loss: 0.3456 - accuracy: 0.8710 - 4s/epoch - 2ms/step\n",
            "Epoch 4/50\n",
            "1875/1875 - 4s - loss: 0.3229 - accuracy: 0.8798 - 4s/epoch - 2ms/step\n",
            "Epoch 5/50\n",
            "1875/1875 - 4s - loss: 0.3061 - accuracy: 0.8853 - 4s/epoch - 2ms/step\n",
            "Epoch 6/50\n",
            "1875/1875 - 4s - loss: 0.2878 - accuracy: 0.8924 - 4s/epoch - 2ms/step\n",
            "Epoch 7/50\n",
            "1875/1875 - 4s - loss: 0.2758 - accuracy: 0.8960 - 4s/epoch - 2ms/step\n",
            "Epoch 8/50\n",
            "1875/1875 - 4s - loss: 0.2650 - accuracy: 0.9003 - 4s/epoch - 2ms/step\n",
            "Epoch 9/50\n",
            "1875/1875 - 4s - loss: 0.2557 - accuracy: 0.9045 - 4s/epoch - 2ms/step\n",
            "Epoch 10/50\n",
            "1875/1875 - 4s - loss: 0.2486 - accuracy: 0.9055 - 4s/epoch - 2ms/step\n",
            "Epoch 11/50\n",
            "1875/1875 - 4s - loss: 0.2407 - accuracy: 0.9083 - 4s/epoch - 2ms/step\n",
            "Epoch 12/50\n",
            "1875/1875 - 4s - loss: 0.2338 - accuracy: 0.9117 - 4s/epoch - 2ms/step\n",
            "Epoch 13/50\n",
            "1875/1875 - 4s - loss: 0.2257 - accuracy: 0.9136 - 4s/epoch - 2ms/step\n",
            "Epoch 14/50\n",
            "1875/1875 - 4s - loss: 0.2214 - accuracy: 0.9155 - 4s/epoch - 2ms/step\n",
            "Epoch 15/50\n",
            "1875/1875 - 4s - loss: 0.2145 - accuracy: 0.9185 - 4s/epoch - 2ms/step\n",
            "Epoch 16/50\n",
            "1875/1875 - 4s - loss: 0.2098 - accuracy: 0.9195 - 4s/epoch - 2ms/step\n",
            "Epoch 17/50\n",
            "1875/1875 - 4s - loss: 0.2049 - accuracy: 0.9211 - 4s/epoch - 2ms/step\n",
            "Epoch 18/50\n",
            "1875/1875 - 5s - loss: 0.2024 - accuracy: 0.9227 - 5s/epoch - 3ms/step\n",
            "Epoch 19/50\n",
            "1875/1875 - 5s - loss: 0.1969 - accuracy: 0.9261 - 5s/epoch - 3ms/step\n",
            "Epoch 20/50\n",
            "1875/1875 - 5s - loss: 0.1922 - accuracy: 0.9270 - 5s/epoch - 3ms/step\n",
            "Epoch 21/50\n",
            "1875/1875 - 5s - loss: 0.1884 - accuracy: 0.9279 - 5s/epoch - 3ms/step\n",
            "Epoch 22/50\n",
            "1875/1875 - 5s - loss: 0.1851 - accuracy: 0.9291 - 5s/epoch - 3ms/step\n",
            "Epoch 23/50\n",
            "1875/1875 - 5s - loss: 0.1813 - accuracy: 0.9309 - 5s/epoch - 3ms/step\n",
            "Epoch 24/50\n",
            "1875/1875 - 5s - loss: 0.1794 - accuracy: 0.9316 - 5s/epoch - 3ms/step\n",
            "Epoch 25/50\n",
            "1875/1875 - 5s - loss: 0.1782 - accuracy: 0.9314 - 5s/epoch - 3ms/step\n",
            "Epoch 26/50\n",
            "1875/1875 - 5s - loss: 0.1726 - accuracy: 0.9340 - 5s/epoch - 3ms/step\n",
            "Epoch 27/50\n",
            "1875/1875 - 5s - loss: 0.1700 - accuracy: 0.9356 - 5s/epoch - 3ms/step\n",
            "Epoch 28/50\n",
            "1875/1875 - 5s - loss: 0.1671 - accuracy: 0.9354 - 5s/epoch - 3ms/step\n",
            "Epoch 29/50\n",
            "1875/1875 - 5s - loss: 0.1652 - accuracy: 0.9370 - 5s/epoch - 3ms/step\n",
            "Epoch 30/50\n",
            "1875/1875 - 5s - loss: 0.1623 - accuracy: 0.9386 - 5s/epoch - 3ms/step\n",
            "Epoch 31/50\n",
            "1875/1875 - 5s - loss: 0.1613 - accuracy: 0.9387 - 5s/epoch - 3ms/step\n",
            "Epoch 32/50\n",
            "1875/1875 - 5s - loss: 0.1571 - accuracy: 0.9408 - 5s/epoch - 3ms/step\n",
            "Epoch 33/50\n",
            "1875/1875 - 5s - loss: 0.1549 - accuracy: 0.9401 - 5s/epoch - 3ms/step\n",
            "Epoch 34/50\n",
            "1875/1875 - 5s - loss: 0.1530 - accuracy: 0.9421 - 5s/epoch - 3ms/step\n",
            "Epoch 35/50\n",
            "1875/1875 - 5s - loss: 0.1503 - accuracy: 0.9425 - 5s/epoch - 2ms/step\n",
            "Epoch 36/50\n",
            "1875/1875 - 5s - loss: 0.1498 - accuracy: 0.9432 - 5s/epoch - 3ms/step\n",
            "Epoch 37/50\n",
            "1875/1875 - 5s - loss: 0.1449 - accuracy: 0.9446 - 5s/epoch - 2ms/step\n",
            "Epoch 38/50\n",
            "1875/1875 - 5s - loss: 0.1453 - accuracy: 0.9448 - 5s/epoch - 3ms/step\n",
            "Epoch 39/50\n",
            "1875/1875 - 5s - loss: 0.1442 - accuracy: 0.9450 - 5s/epoch - 3ms/step\n",
            "Epoch 40/50\n",
            "1875/1875 - 5s - loss: 0.1408 - accuracy: 0.9466 - 5s/epoch - 3ms/step\n",
            "Epoch 41/50\n",
            "1875/1875 - 5s - loss: 0.1393 - accuracy: 0.9480 - 5s/epoch - 3ms/step\n",
            "Epoch 42/50\n",
            "1875/1875 - 4s - loss: 0.1392 - accuracy: 0.9473 - 4s/epoch - 2ms/step\n",
            "Epoch 43/50\n",
            "1875/1875 - 4s - loss: 0.1368 - accuracy: 0.9486 - 4s/epoch - 2ms/step\n",
            "Epoch 44/50\n",
            "1875/1875 - 4s - loss: 0.1364 - accuracy: 0.9478 - 4s/epoch - 2ms/step\n",
            "Epoch 45/50\n",
            "1875/1875 - 4s - loss: 0.1333 - accuracy: 0.9491 - 4s/epoch - 2ms/step\n",
            "Epoch 46/50\n",
            "1875/1875 - 4s - loss: 0.1323 - accuracy: 0.9499 - 4s/epoch - 2ms/step\n",
            "Epoch 47/50\n",
            "1875/1875 - 4s - loss: 0.1313 - accuracy: 0.9488 - 4s/epoch - 2ms/step\n",
            "Epoch 48/50\n",
            "1875/1875 - 4s - loss: 0.1293 - accuracy: 0.9510 - 4s/epoch - 2ms/step\n",
            "Epoch 49/50\n",
            "1875/1875 - 5s - loss: 0.1282 - accuracy: 0.9510 - 5s/epoch - 2ms/step\n",
            "Epoch 50/50\n",
            "1875/1875 - 4s - loss: 0.1268 - accuracy: 0.9514 - 4s/epoch - 2ms/step\n",
            "Evaluating the model \n",
            "\n",
            "313/313 - 1s - loss: 0.4040 - accuracy: 0.8872 - 545ms/epoch - 2ms/step\n",
            "\n",
            "Test accuracy: 0.8871999979019165\n"
          ]
        }
      ]
    },
    {
      "cell_type": "markdown",
      "source": [
        "###Predictions with ANN model "
      ],
      "metadata": {
        "id": "KRVszHTA258m"
      }
    },
    {
      "cell_type": "code",
      "source": [
        "probability_model = tf.keras.Sequential([model, \n",
        "                                         tf.keras.layers.Softmax()])"
      ],
      "metadata": {
        "id": "IwsQwyD13bJL"
      },
      "execution_count": 72,
      "outputs": []
    },
    {
      "cell_type": "code",
      "source": [
        "predictions = probability_model.predict(y_test)"
      ],
      "metadata": {
        "id": "SQZIqCM33d35"
      },
      "execution_count": 73,
      "outputs": []
    },
    {
      "cell_type": "code",
      "source": [
        "def plot_image(i, predictions_array, true_label, img):\n",
        "  true_label, img = true_label[i], img[i]\n",
        "  plt.grid(False)\n",
        "  plt.xticks([])\n",
        "  plt.yticks([])\n",
        "\n",
        "  plt.imshow(img, cmap=plt.cm.binary)\n",
        "\n",
        "  predicted_label = np.argmax(predictions_array)\n",
        "  if predicted_label == true_label:\n",
        "    color = 'blue'\n",
        "  else:\n",
        "    color = 'red'\n",
        "\n",
        "  plt.xlabel(\"{} {:2.0f}% ({})\".format(class_names[predicted_label],\n",
        "                                100*np.max(predictions_array),\n",
        "                                class_names[true_label]),\n",
        "                                color=color)\n",
        "\n",
        "def plot_value_array(i, predictions_array, true_label):\n",
        "  true_label = true_label[i]\n",
        "  plt.grid(False)\n",
        "  plt.xticks(range(10))\n",
        "  plt.yticks([])\n",
        "  thisplot = plt.bar(range(10), predictions_array, color=\"#777777\")\n",
        "  plt.ylim([0, 1])\n",
        "  predicted_label = np.argmax(predictions_array)\n",
        "\n",
        "  thisplot[predicted_label].set_color('red')\n",
        "  thisplot[true_label].set_color('blue')"
      ],
      "metadata": {
        "id": "eEnpQHiD3oXg"
      },
      "execution_count": 74,
      "outputs": []
    },
    {
      "cell_type": "code",
      "source": [
        "#Testing some predictions\n",
        "i = 0\n",
        "plt.figure(figsize=(6,3))\n",
        "plt.subplot(1,2,1)\n",
        "plot_image(i, predictions[i], y_labels, y_test)\n",
        "plt.subplot(1,2,2)\n",
        "plot_value_array(i, predictions[i],  y_labels)\n",
        "plt.show()"
      ],
      "metadata": {
        "colab": {
          "base_uri": "https://localhost:8080/",
          "height": 211
        },
        "id": "Nowm5vaM3tWQ",
        "outputId": "1f35ff28-802f-48c2-9292-14c1fce04f35"
      },
      "execution_count": 77,
      "outputs": [
        {
          "output_type": "display_data",
          "data": {
            "text/plain": [
              "<Figure size 432x216 with 2 Axes>"
            ],
            "image/png": "[encoded data removed]"
          },
          "metadata": {
            "needs_background": "light"
          }
        }
      ]
    },
    {
      "cell_type": "code",
      "source": [
        "# Plot the first X test images, their predicted labels, and the true labels.\n",
        "# Color correct predictions in blue and incorrect predictions in red.\n",
        "num_rows = 5\n",
        "num_cols = 3\n",
        "num_images = num_rows*num_cols\n",
        "plt.figure(figsize=(2*2*num_cols, 2*num_rows))\n",
        "for i in range(num_images):\n",
        "  plt.subplot(num_rows, 2*num_cols, 2*i+1)\n",
        "  plot_image(i, predictions[i], y_labels, y_test)\n",
        "  plt.subplot(num_rows, 2*num_cols, 2*i+2)\n",
        "  plot_value_array(i, predictions[i], y_labels)\n",
        "plt.tight_layout()\n",
        "plt.show()"
      ],
      "metadata": {
        "colab": {
          "base_uri": "https://localhost:8080/",
          "height": 729
        },
        "id": "i4YeHyt439t8",
        "outputId": "aeb0f2f9-4291-486e-cb08-657e0b237aee"
      },
      "execution_count": 79,
      "outputs": [
        {
          "output_type": "display_data",
          "data": {
            "text/plain": [
              "<Figure size 864x720 with 30 Axes>"
            ],
            "image/png": "[encoded data removed]"
          },
          "metadata": {
            "needs_background": "light"
          }
        }
      ]
    },
    {
      "cell_type": "markdown",
      "source": [
        "## Adding two CNN layers before the dense fully connected layers"
      ],
      "metadata": {
        "id": "LSbux8Rs0AW-"
      }
    },
    {
      "cell_type": "code",
      "source": [
        "#Import modules"
      ],
      "metadata": {
        "id": "uzKCSQq00F09"
      },
      "execution_count": 70,
      "outputs": []
    },
    {
      "cell_type": "code",
      "source": [
        "#import Conv2D\n",
        "from keras.layers import Conv2D"
      ],
      "metadata": {
        "id": "k6aHe6iD0VPg"
      },
      "execution_count": 80,
      "outputs": []
    },
    {
      "cell_type": "markdown",
      "source": [
        "###Building CNN model\n"
      ],
      "metadata": {
        "id": "bbV_NEaD4Wfb"
      }
    },
    {
      "cell_type": "code",
      "source": [
        "model = Sequential()\n",
        "model.add(tf.keras.layers.Conv2D(32, (3, 3), padding=\"same\", activation=\"relu\", input_shape = (28, 28, 1), data_format=\"channels_last\"))\n",
        "model.add(tf.keras.layers.MaxPool2D(2,2))\n",
        "model.add(tf.keras.layers.Conv2D(32, (3, 3), padding=\"same\", activation=\"relu\", input_shape = (28, 28, 1), data_format=\"channels_last\"))\n",
        "model.add(tf.keras.layers.Flatten(input_shape=(28,28)))\n",
        "model.add(tf.keras.layers.Dense(128, activation='relu'))\n",
        "model.add(tf.keras.layers.Dense(10, activation='softmax'))"
      ],
      "metadata": {
        "id": "DGmqg2fL4RD7"
      },
      "execution_count": 105,
      "outputs": []
    },
    {
      "cell_type": "code",
      "source": [
        "#Train the model\n",
        "train_images = tf.reshape(x_train, shape=[-1, 28, 28, 1])\n",
        "model.compile(optimizer='adam',\n",
        "              loss=tf.keras.losses.SparseCategoricalCrossentropy(from_logits=True),\n",
        "              metrics=['accuracy'])"
      ],
      "metadata": {
        "id": "tP7is-BZ5yQy"
      },
      "execution_count": 106,
      "outputs": []
    },
    {
      "cell_type": "code",
      "source": [
        "print(\"Fitting the model \\n\")\n",
        "model.fit(train_images, x_labels, epochs=10, verbose = 2)"
      ],
      "metadata": {
        "colab": {
          "base_uri": "https://localhost:8080/"
        },
        "id": "nlQhqo-r8JK6",
        "outputId": "516553ca-e9a2-42b2-ff22-e3fde81533fe"
      },
      "execution_count": 107,
      "outputs": [
        {
          "output_type": "stream",
          "name": "stdout",
          "text": [
            "Fitting the model \n",
            "\n",
            "Epoch 1/10\n"
          ]
        },
        {
          "output_type": "stream",
          "name": "stderr",
          "text": [
            "/usr/local/lib/python3.7/dist-packages/tensorflow/python/util/dispatch.py:1082: UserWarning: \"`sparse_categorical_crossentropy` received `from_logits=True`, but the `output` argument was produced by a sigmoid or softmax activation and thus does not represent logits. Was this intended?\"\n",
            "  return dispatch_target(*args, **kwargs)\n"
          ]
        },
        {
          "output_type": "stream",
          "name": "stdout",
          "text": [
            "1875/1875 - 65s - loss: 0.4037 - accuracy: 0.8529 - 65s/epoch - 34ms/step\n",
            "Epoch 2/10\n",
            "1875/1875 - 67s - loss: 0.2671 - accuracy: 0.9008 - 67s/epoch - 36ms/step\n",
            "Epoch 3/10\n",
            "1875/1875 - 64s - loss: 0.2194 - accuracy: 0.9174 - 64s/epoch - 34ms/step\n",
            "Epoch 4/10\n",
            "1875/1875 - 65s - loss: 0.1881 - accuracy: 0.9287 - 65s/epoch - 35ms/step\n",
            "Epoch 5/10\n",
            "1875/1875 - 65s - loss: 0.1554 - accuracy: 0.9406 - 65s/epoch - 35ms/step\n",
            "Epoch 6/10\n",
            "1875/1875 - 65s - loss: 0.1294 - accuracy: 0.9513 - 65s/epoch - 34ms/step\n",
            "Epoch 7/10\n",
            "1875/1875 - 65s - loss: 0.1071 - accuracy: 0.9602 - 65s/epoch - 35ms/step\n",
            "Epoch 8/10\n",
            "1875/1875 - 64s - loss: 0.0871 - accuracy: 0.9678 - 64s/epoch - 34ms/step\n",
            "Epoch 9/10\n",
            "1875/1875 - 70s - loss: 0.0702 - accuracy: 0.9743 - 70s/epoch - 37ms/step\n",
            "Epoch 10/10\n",
            "1875/1875 - 66s - loss: 0.0578 - accuracy: 0.9786 - 66s/epoch - 35ms/step\n"
          ]
        },
        {
          "output_type": "execute_result",
          "data": {
            "text/plain": [
              "<keras.callbacks.History at 0x7fcda0524690>"
            ]
          },
          "metadata": {},
          "execution_count": 107
        }
      ]
    },
    {
      "cell_type": "code",
      "source": [
        "#Evaluate the model\n",
        "print(\"Evaluating the model \\n\")\n",
        "test_loss, test_acc = model.evaluate(y_test,  y_labels, verbose=2)\n",
        "print('\\nTest accuracy:', test_acc)"
      ],
      "metadata": {
        "colab": {
          "base_uri": "https://localhost:8080/"
        },
        "id": "SuZVqGCFARth",
        "outputId": "174a4038-fb2e-44ed-9967-7f50fa03e24c"
      },
      "execution_count": 108,
      "outputs": [
        {
          "output_type": "stream",
          "name": "stdout",
          "text": [
            "Evaluating the model \n",
            "\n"
          ]
        },
        {
          "output_type": "stream",
          "name": "stderr",
          "text": [
            "/usr/local/lib/python3.7/dist-packages/tensorflow/python/util/dispatch.py:1082: UserWarning: \"`sparse_categorical_crossentropy` received `from_logits=True`, but the `output` argument was produced by a sigmoid or softmax activation and thus does not represent logits. Was this intended?\"\n",
            "  return dispatch_target(*args, **kwargs)\n"
          ]
        },
        {
          "output_type": "stream",
          "name": "stdout",
          "text": [
            "313/313 - 3s - loss: 0.3554 - accuracy: 0.9125 - 3s/epoch - 10ms/step\n",
            "\n",
            "Test accuracy: 0.9125000238418579\n"
          ]
        }
      ]
    },
    {
      "cell_type": "code",
      "source": [
        ""
      ],
      "metadata": {
        "id": "_z1wrldJATMZ"
      },
      "execution_count": null,
      "outputs": []
    },
    {
      "cell_type": "markdown",
      "source": [
        "### Trying with different kernel values and 64 layers in the second CNN layer"
      ],
      "metadata": {
        "id": "iZjJ1jdyDBZt"
      }
    },
    {
      "cell_type": "code",
      "source": [
        "model = Sequential()\n",
        "model.add(tf.keras.layers.Conv2D(32, (4, 4), padding=\"same\", activation=\"relu\", input_shape = (28, 28, 1), data_format=\"channels_last\"))\n",
        "model.add(tf.keras.layers.MaxPool2D(2,2))\n",
        "model.add(tf.keras.layers.Conv2D(64, (4, 4), padding=\"same\", activation=\"relu\", input_shape = (28, 28, 1), data_format=\"channels_last\"))\n",
        "model.add(tf.keras.layers.Flatten(input_shape=(28,28)))\n",
        "model.add(tf.keras.layers.Dense(128, activation='relu'))\n",
        "model.add(tf.keras.layers.Dense(10, activation='softmax'))\n",
        "\n",
        "#Train the model\n",
        "train_images = tf.reshape(x_train, shape=[-1, 28, 28, 1])\n",
        "model.compile(optimizer='adam',\n",
        "              loss=tf.keras.losses.SparseCategoricalCrossentropy(from_logits=True),\n",
        "              metrics=['accuracy'])\n",
        "print(\"Fitting the model \\n\")\n",
        "model.fit(train_images, x_labels, epochs=10, verbose = 2)"
      ],
      "metadata": {
        "colab": {
          "base_uri": "https://localhost:8080/"
        },
        "id": "0Bd4C1GdDESD",
        "outputId": "7744438e-1ffa-4c06-a52a-6ee4d9420496"
      },
      "execution_count": 112,
      "outputs": [
        {
          "metadata": {
            "tags": null
          },
          "name": "stdout",
          "output_type": "stream",
          "text": [
            "Fitting the model \n",
            "\n",
            "Epoch 1/10\n"
          ]
        },
        {
          "metadata": {
            "tags": null
          },
          "name": "stderr",
          "output_type": "stream",
          "text": [
            "/usr/local/lib/python3.7/dist-packages/tensorflow/python/util/dispatch.py:1082: UserWarning: \"`sparse_categorical_crossentropy` received `from_logits=True`, but the `output` argument was produced by a sigmoid or softmax activation and thus does not represent logits. Was this intended?\"\n",
            "  return dispatch_target(*args, **kwargs)\n"
          ]
        },
        {
          "output_type": "stream",
          "name": "stdout",
          "text": [
            "1875/1875 - 122s - loss: 0.3994 - accuracy: 0.8538 - 122s/epoch - 65ms/step\n",
            "Epoch 2/10\n",
            "1875/1875 - 122s - loss: 0.2597 - accuracy: 0.9034 - 122s/epoch - 65ms/step\n",
            "Epoch 3/10\n",
            "1875/1875 - 120s - loss: 0.2146 - accuracy: 0.9182 - 120s/epoch - 64ms/step\n",
            "Epoch 4/10\n",
            "1875/1875 - 123s - loss: 0.1780 - accuracy: 0.9330 - 123s/epoch - 65ms/step\n",
            "Epoch 5/10\n",
            "1875/1875 - 119s - loss: 0.1471 - accuracy: 0.9443 - 119s/epoch - 63ms/step\n",
            "Epoch 6/10\n",
            "1875/1875 - 119s - loss: 0.1191 - accuracy: 0.9548 - 119s/epoch - 63ms/step\n",
            "Epoch 7/10\n",
            "1875/1875 - 120s - loss: 0.0960 - accuracy: 0.9636 - 120s/epoch - 64ms/step\n",
            "Epoch 8/10\n",
            "1875/1875 - 119s - loss: 0.0789 - accuracy: 0.9708 - 119s/epoch - 64ms/step\n",
            "Epoch 9/10\n",
            "1875/1875 - 120s - loss: 0.0644 - accuracy: 0.9769 - 120s/epoch - 64ms/step\n",
            "Epoch 10/10\n",
            "1875/1875 - 120s - loss: 0.0524 - accuracy: 0.9811 - 120s/epoch - 64ms/step\n"
          ]
        },
        {
          "output_type": "execute_result",
          "data": {
            "text/plain": [
              "<keras.callbacks.History at 0x7fcda011bf10>"
            ]
          },
          "metadata": {},
          "execution_count": 112
        }
      ]
    },
    {
      "cell_type": "code",
      "source": [
        "#Evaluate the model\n",
        "print(\"Evaluating the model \\n\")\n",
        "test_loss, test_acc = model.evaluate(y_test,  y_labels, verbose=2)\n",
        "print('\\nTest accuracy:', test_acc)"
      ],
      "metadata": {
        "colab": {
          "base_uri": "https://localhost:8080/"
        },
        "id": "Ds8k9HckDxqe",
        "outputId": "eaffdb71-cbc3-43b4-cfd9-d38843d3afd8"
      },
      "execution_count": 113,
      "outputs": [
        {
          "output_type": "stream",
          "name": "stdout",
          "text": [
            "Evaluating the model \n",
            "\n"
          ]
        },
        {
          "output_type": "stream",
          "name": "stderr",
          "text": [
            "/usr/local/lib/python3.7/dist-packages/tensorflow/python/util/dispatch.py:1082: UserWarning: \"`sparse_categorical_crossentropy` received `from_logits=True`, but the `output` argument was produced by a sigmoid or softmax activation and thus does not represent logits. Was this intended?\"\n",
            "  return dispatch_target(*args, **kwargs)\n"
          ]
        },
        {
          "output_type": "stream",
          "name": "stdout",
          "text": [
            "313/313 - 5s - loss: 0.3646 - accuracy: 0.9125 - 5s/epoch - 16ms/step\n",
            "\n",
            "Test accuracy: 0.9125000238418579\n"
          ]
        }
      ]
    }
  ]
}